{
  "cells": [
    {
      "cell_type": "markdown",
      "metadata": {
        "id": "view-in-github",
        "colab_type": "text"
      },
      "source": [
        "<a href=\"https://colab.research.google.com/github/RennanRnz/Credit-score/blob/main/MOD9TAR1.ipynb\" target=\"_parent\"><img src=\"https://colab.research.google.com/assets/colab-badge.svg\" alt=\"Open In Colab\"/></a>"
      ]
    },
    {
      "cell_type": "markdown",
      "metadata": {
        "id": "EtIe3efK3Mt3"
      },
      "source": [
        "# Livro para consulta:\n",
        "- https://jakevdp.github.io/PythonDataScienceHandbook/03.08-aggregation-and-grouping.html\n",
        "- https://jakevdp.github.io/PythonDataScienceHandbook/03.09-pivot-tables.html\n",
        "    "
      ]
    },
    {
      "cell_type": "markdown",
      "metadata": {
        "id": "9e4TQhkE3Mt_"
      },
      "source": [
        "# 1. Importando bibliotecas <a name=\"import\"></a>\n",
        "\n",
        "<div style=\"text-align: right\"\n",
        "     \n",
        "[Voltar ao índice](#Contents)"
      ]
    },
    {
      "cell_type": "code",
      "execution_count": null,
      "metadata": {
        "ExecuteTime": {
          "end_time": "2021-06-06T21:12:37.298706Z",
          "start_time": "2021-06-06T21:12:36.656481Z"
        },
        "id": "Hmnluya63MuB"
      },
      "outputs": [],
      "source": [
        "import numpy as np\n",
        "import pandas as pd\n",
        "import seaborn as sns\n",
        "import matplotlib.pyplot as plt\n",
        "\n",
        "%matplotlib inline"
      ]
    },
    {
      "cell_type": "code",
      "execution_count": null,
      "metadata": {
        "id": "fm4fpsg03MuE"
      },
      "outputs": [],
      "source": []
    },
    {
      "cell_type": "markdown",
      "metadata": {
        "id": "Uz_9h4r-3MuF"
      },
      "source": [
        "# 2. Carregando o dataframe SINASC <a name=\"read\"></a>\n",
        "<div style=\"text-align: right\"\n",
        "     \n",
        "[Voltar ao índice](#Contents)"
      ]
    },
    {
      "cell_type": "code",
      "execution_count": null,
      "metadata": {
        "ExecuteTime": {
          "end_time": "2021-06-06T21:12:37.762376Z",
          "start_time": "2021-06-06T21:12:37.728383Z"
        },
        "scrolled": true,
        "id": "9eNpUzr_3MuF",
        "outputId": "a23330cc-6579-429b-be2b-fd8fcbfc2fc6"
      },
      "outputs": [
        {
          "data": {
            "text/html": [
              "<div>\n",
              "<style scoped>\n",
              "    .dataframe tbody tr th:only-of-type {\n",
              "        vertical-align: middle;\n",
              "    }\n",
              "\n",
              "    .dataframe tbody tr th {\n",
              "        vertical-align: top;\n",
              "    }\n",
              "\n",
              "    .dataframe thead th {\n",
              "        text-align: right;\n",
              "    }\n",
              "</style>\n",
              "<table border=\"1\" class=\"dataframe\">\n",
              "  <thead>\n",
              "    <tr style=\"text-align: right;\">\n",
              "      <th></th>\n",
              "      <th>ORIGEM</th>\n",
              "      <th>CODESTAB</th>\n",
              "      <th>CODMUNNASC</th>\n",
              "      <th>LOCNASC</th>\n",
              "      <th>IDADEMAE</th>\n",
              "      <th>ESTCIVMAE</th>\n",
              "      <th>ESCMAE</th>\n",
              "      <th>CODOCUPMAE</th>\n",
              "      <th>QTDFILVIVO</th>\n",
              "      <th>QTDFILMORT</th>\n",
              "      <th>...</th>\n",
              "      <th>KOTELCHUCK</th>\n",
              "      <th>CONTADOR</th>\n",
              "      <th>munResStatus</th>\n",
              "      <th>munResTipo</th>\n",
              "      <th>munResNome</th>\n",
              "      <th>munResUf</th>\n",
              "      <th>munResLat</th>\n",
              "      <th>munResLon</th>\n",
              "      <th>munResAlt</th>\n",
              "      <th>munResArea</th>\n",
              "    </tr>\n",
              "  </thead>\n",
              "  <tbody>\n",
              "    <tr>\n",
              "      <th>0</th>\n",
              "      <td>1</td>\n",
              "      <td>2679477.0</td>\n",
              "      <td>110001</td>\n",
              "      <td>1</td>\n",
              "      <td>19</td>\n",
              "      <td>5.0</td>\n",
              "      <td>8 a 11 anos</td>\n",
              "      <td>NaN</td>\n",
              "      <td>0.0</td>\n",
              "      <td>0.0</td>\n",
              "      <td>...</td>\n",
              "      <td>5</td>\n",
              "      <td>1</td>\n",
              "      <td>ATIVO</td>\n",
              "      <td>MUNIC</td>\n",
              "      <td>Alta Floresta D'Oeste</td>\n",
              "      <td>Rondônia</td>\n",
              "      <td>-11.93554</td>\n",
              "      <td>-61.99982</td>\n",
              "      <td>338.0</td>\n",
              "      <td>7067.025</td>\n",
              "    </tr>\n",
              "    <tr>\n",
              "      <th>1</th>\n",
              "      <td>1</td>\n",
              "      <td>2679477.0</td>\n",
              "      <td>110001</td>\n",
              "      <td>1</td>\n",
              "      <td>29</td>\n",
              "      <td>2.0</td>\n",
              "      <td>8 a 11 anos</td>\n",
              "      <td>999992.0</td>\n",
              "      <td>1.0</td>\n",
              "      <td>0.0</td>\n",
              "      <td>...</td>\n",
              "      <td>5</td>\n",
              "      <td>2</td>\n",
              "      <td>ATIVO</td>\n",
              "      <td>MUNIC</td>\n",
              "      <td>Alta Floresta D'Oeste</td>\n",
              "      <td>Rondônia</td>\n",
              "      <td>-11.93554</td>\n",
              "      <td>-61.99982</td>\n",
              "      <td>338.0</td>\n",
              "      <td>7067.025</td>\n",
              "    </tr>\n",
              "    <tr>\n",
              "      <th>2</th>\n",
              "      <td>1</td>\n",
              "      <td>2679477.0</td>\n",
              "      <td>110001</td>\n",
              "      <td>1</td>\n",
              "      <td>37</td>\n",
              "      <td>9.0</td>\n",
              "      <td>8 a 11 anos</td>\n",
              "      <td>513205.0</td>\n",
              "      <td>2.0</td>\n",
              "      <td>0.0</td>\n",
              "      <td>...</td>\n",
              "      <td>5</td>\n",
              "      <td>3</td>\n",
              "      <td>ATIVO</td>\n",
              "      <td>MUNIC</td>\n",
              "      <td>Alta Floresta D'Oeste</td>\n",
              "      <td>Rondônia</td>\n",
              "      <td>-11.93554</td>\n",
              "      <td>-61.99982</td>\n",
              "      <td>338.0</td>\n",
              "      <td>7067.025</td>\n",
              "    </tr>\n",
              "    <tr>\n",
              "      <th>3</th>\n",
              "      <td>1</td>\n",
              "      <td>2516500.0</td>\n",
              "      <td>110001</td>\n",
              "      <td>1</td>\n",
              "      <td>30</td>\n",
              "      <td>5.0</td>\n",
              "      <td>12 anos ou mais</td>\n",
              "      <td>231205.0</td>\n",
              "      <td>0.0</td>\n",
              "      <td>0.0</td>\n",
              "      <td>...</td>\n",
              "      <td>4</td>\n",
              "      <td>4</td>\n",
              "      <td>ATIVO</td>\n",
              "      <td>MUNIC</td>\n",
              "      <td>Alto Alegre dos Parecis</td>\n",
              "      <td>Rondônia</td>\n",
              "      <td>-12.13178</td>\n",
              "      <td>-61.85308</td>\n",
              "      <td>397.0</td>\n",
              "      <td>3958.273</td>\n",
              "    </tr>\n",
              "    <tr>\n",
              "      <th>4</th>\n",
              "      <td>1</td>\n",
              "      <td>2516500.0</td>\n",
              "      <td>110001</td>\n",
              "      <td>1</td>\n",
              "      <td>30</td>\n",
              "      <td>2.0</td>\n",
              "      <td>8 a 11 anos</td>\n",
              "      <td>999992.0</td>\n",
              "      <td>1.0</td>\n",
              "      <td>0.0</td>\n",
              "      <td>...</td>\n",
              "      <td>5</td>\n",
              "      <td>5</td>\n",
              "      <td>ATIVO</td>\n",
              "      <td>MUNIC</td>\n",
              "      <td>Alta Floresta D'Oeste</td>\n",
              "      <td>Rondônia</td>\n",
              "      <td>-11.93554</td>\n",
              "      <td>-61.99982</td>\n",
              "      <td>338.0</td>\n",
              "      <td>7067.025</td>\n",
              "    </tr>\n",
              "  </tbody>\n",
              "</table>\n",
              "<p>5 rows × 69 columns</p>\n",
              "</div>"
            ],
            "text/plain": [
              "   ORIGEM   CODESTAB  CODMUNNASC  LOCNASC  IDADEMAE  ESTCIVMAE  \\\n",
              "0       1  2679477.0      110001        1        19        5.0   \n",
              "1       1  2679477.0      110001        1        29        2.0   \n",
              "2       1  2679477.0      110001        1        37        9.0   \n",
              "3       1  2516500.0      110001        1        30        5.0   \n",
              "4       1  2516500.0      110001        1        30        2.0   \n",
              "\n",
              "            ESCMAE  CODOCUPMAE  QTDFILVIVO  QTDFILMORT  ...  KOTELCHUCK  \\\n",
              "0      8 a 11 anos         NaN         0.0         0.0  ...           5   \n",
              "1      8 a 11 anos    999992.0         1.0         0.0  ...           5   \n",
              "2      8 a 11 anos    513205.0         2.0         0.0  ...           5   \n",
              "3  12 anos ou mais    231205.0         0.0         0.0  ...           4   \n",
              "4      8 a 11 anos    999992.0         1.0         0.0  ...           5   \n",
              "\n",
              "  CONTADOR munResStatus munResTipo               munResNome  munResUf  \\\n",
              "0        1        ATIVO      MUNIC    Alta Floresta D'Oeste  Rondônia   \n",
              "1        2        ATIVO      MUNIC    Alta Floresta D'Oeste  Rondônia   \n",
              "2        3        ATIVO      MUNIC    Alta Floresta D'Oeste  Rondônia   \n",
              "3        4        ATIVO      MUNIC  Alto Alegre dos Parecis  Rondônia   \n",
              "4        5        ATIVO      MUNIC    Alta Floresta D'Oeste  Rondônia   \n",
              "\n",
              "   munResLat munResLon  munResAlt  munResArea  \n",
              "0  -11.93554 -61.99982      338.0    7067.025  \n",
              "1  -11.93554 -61.99982      338.0    7067.025  \n",
              "2  -11.93554 -61.99982      338.0    7067.025  \n",
              "3  -12.13178 -61.85308      397.0    3958.273  \n",
              "4  -11.93554 -61.99982      338.0    7067.025  \n",
              "\n",
              "[5 rows x 69 columns]"
            ]
          },
          "execution_count": 5,
          "metadata": {},
          "output_type": "execute_result"
        }
      ],
      "source": [
        "sinasc_raw = pd.read_csv('SINASC_RO_2019.csv')\n",
        "sinasc_raw.head()"
      ]
    },
    {
      "cell_type": "code",
      "execution_count": null,
      "metadata": {
        "id": "YEqaWdxW3MuI",
        "outputId": "023c6987-f026-436c-97a4-4938e5e13b2c"
      },
      "outputs": [
        {
          "data": {
            "text/plain": [
              "Index(['ORIGEM', 'CODESTAB', 'CODMUNNASC', 'LOCNASC', 'IDADEMAE', 'ESTCIVMAE',\n",
              "       'ESCMAE', 'CODOCUPMAE', 'QTDFILVIVO', 'QTDFILMORT', 'CODMUNRES',\n",
              "       'GESTACAO', 'GRAVIDEZ', 'PARTO', 'CONSULTAS', 'DTNASC', 'HORANASC',\n",
              "       'SEXO', 'APGAR1', 'APGAR5', 'RACACOR', 'PESO', 'IDANOMAL', 'DTCADASTRO',\n",
              "       'CODANOMAL', 'NUMEROLOTE', 'VERSAOSIST', 'DTRECEBIM', 'DIFDATA',\n",
              "       'DTRECORIGA', 'NATURALMAE', 'CODMUNNATU', 'CODUFNATU', 'ESCMAE2010',\n",
              "       'SERIESCMAE', 'DTNASCMAE', 'RACACORMAE', 'QTDGESTANT', 'QTDPARTNOR',\n",
              "       'QTDPARTCES', 'IDADEPAI', 'DTULTMENST', 'SEMAGESTAC', 'TPMETESTIM',\n",
              "       'CONSPRENAT', 'MESPRENAT', 'TPAPRESENT', 'STTRABPART', 'STCESPARTO',\n",
              "       'TPNASCASSI', 'TPFUNCRESP', 'TPDOCRESP', 'DTDECLARAC', 'ESCMAEAGR1',\n",
              "       'STDNEPIDEM', 'STDNNOVA', 'CODPAISRES', 'TPROBSON', 'PARIDADE',\n",
              "       'KOTELCHUCK', 'CONTADOR', 'munResStatus', 'munResTipo', 'munResNome',\n",
              "       'munResUf', 'munResLat', 'munResLon', 'munResAlt', 'munResArea'],\n",
              "      dtype='object')"
            ]
          },
          "execution_count": 6,
          "metadata": {},
          "output_type": "execute_result"
        }
      ],
      "source": [
        "sinasc_raw.columns\n"
      ]
    },
    {
      "cell_type": "code",
      "execution_count": null,
      "metadata": {
        "id": "fx_iUYxF3MuJ",
        "outputId": "e5d9bc74-6130-4490-ee15-c6a9d45df2f6"
      },
      "outputs": [
        {
          "data": {
            "text/plain": [
              "(27028, 69)"
            ]
          },
          "execution_count": 7,
          "metadata": {},
          "output_type": "execute_result"
        }
      ],
      "source": [
        "sinasc_raw.shape\n"
      ]
    },
    {
      "cell_type": "markdown",
      "metadata": {
        "id": "TWS_P92g3MuK"
      },
      "source": [
        "# Tarefa 1"
      ]
    },
    {
      "cell_type": "markdown",
      "metadata": {
        "id": "bbq5eyEG3MuL"
      },
      "source": [
        "### 1. Idade media das mães e dos pais por município (coluna munResNome)\n"
      ]
    },
    {
      "cell_type": "code",
      "execution_count": null,
      "metadata": {
        "id": "7m3Ga14l3MuM",
        "outputId": "73eb7a16-469e-4664-997d-ee4d441f907b"
      },
      "outputs": [
        {
          "name": "stdout",
          "output_type": "stream",
          "text": [
            "                            IDADEMAE   IDADEPAI\n",
            "munResNome                                     \n",
            "Alta Floresta D'Oeste      25.991826  29.548701\n",
            "Alto Alegre dos Parecis    24.844156  29.179104\n",
            "Alto Paraíso               24.960177  28.833333\n",
            "Alvorada D'Oeste           25.770732  30.757282\n",
            "Ariquemes                  25.607866  32.466667\n",
            "Buritis                    25.559177  30.812500\n",
            "Cabixi                     26.037500  34.333333\n",
            "Cacaulândia                25.546667  36.333333\n",
            "Cacoal                     26.890102  30.931854\n",
            "Campo Novo de Rondônia     24.825301  30.500000\n",
            "Candeias do Jamari         25.243323  29.894737\n",
            "Castanheiras               27.281250  30.392857\n",
            "Cerejeiras                 27.240506  31.652778\n",
            "Chupinguaia                25.333333  29.629630\n",
            "Colorado do Oeste          27.602804  34.354839\n",
            "Corumbiara                 24.716535  32.470588\n",
            "Costa Marques              24.412017  30.613636\n",
            "Cujubim                    24.482927  31.400000\n",
            "Espigão D'Oeste            26.093333  31.198113\n",
            "Governador Jorge Teixeira  24.401786  29.222222\n",
            "Guajará-Mirim              25.462228  30.470588\n",
            "Itapuã do Oeste            26.064220  42.500000\n",
            "Jaru                       25.982974  32.197183\n",
            "Ji-Paraná                  26.361137  31.132239\n",
            "Machadinho D'Oeste         25.480000  31.326923\n",
            "Ministro Andreazza         27.904762  33.849315\n",
            "Mirante da Serra           26.304878  32.154762\n",
            "Monte Negro                25.648241  34.678571\n",
            "Município ignorado - RO    24.000000  22.000000\n",
            "Nova Brasilândia D'Oeste   26.222222  30.520833\n",
            "Nova Mamoré                25.326389  31.692308\n",
            "Nova União                 26.894231  31.371429\n",
            "Novo Horizonte do Oeste    26.938776  31.588235\n",
            "Ouro Preto do Oeste        26.375594  31.233244\n",
            "Parecis                    26.454545  32.473684\n",
            "Pimenta Bueno              25.199675  29.745174\n",
            "Pimenteiras do Oeste       25.075000  35.600000\n",
            "Porto Velho                26.312670  32.352679\n",
            "Presidente Médici          25.796053  30.150754\n",
            "Primavera de Rondônia      27.023256  31.888889\n",
            "Rio Crespo                 26.660000  28.000000\n",
            "Rolim de Moura             26.600863  30.360479\n",
            "Santa Luzia D'Oeste        26.121212  30.703297\n",
            "Seringueiras               24.910714  30.500000\n",
            "São Felipe D'Oeste         26.481481  31.395833\n",
            "São Francisco do Guaporé   25.660066  31.638889\n",
            "São Miguel do Guaporé      25.926346  32.666667\n",
            "Teixeirópolis              26.031250  31.500000\n",
            "Theobroma                  25.536082  30.083333\n",
            "Urupá                      26.688235  31.008929\n",
            "Vale do Anari              26.096774  34.000000\n",
            "Vale do Paraíso            25.679012  29.976744\n",
            "Vilhena                    26.433962  34.152941\n"
          ]
        }
      ],
      "source": [
        "# Agrupando os dados por município e calculando a média das idades.\n",
        "idade_media_por_municipio = sinasc_raw.groupby('munResNome')[['IDADEMAE', 'IDADEPAI']].mean()\n",
        "\n",
        "# Exibindo o resultado.\n",
        "print(idade_media_por_municipio)"
      ]
    },
    {
      "cell_type": "markdown",
      "metadata": {
        "id": "r37pvMTU3MuM"
      },
      "source": [
        "### 2. Peso médio dos bebes por sexo que nasceram no dia do seu aniversário por faixas de escolaridade mae\n",
        "Ex: Você, aluna(o), nasceu no dia 10/01, então você precisa filtrar o conjunto de dados nessa data e calcular o peso médio dos bebês de cada sexo por faixa de escolaridade da mãe."
      ]
    },
    {
      "cell_type": "code",
      "execution_count": null,
      "metadata": {
        "id": "YC0HBEOC3MuN",
        "outputId": "abea5765-78cc-4711-9021-25bfa81901e3"
      },
      "outputs": [
        {
          "name": "stdout",
          "output_type": "stream",
          "text": [
            "SEXO       ESCMAE         \n",
            "Feminino   12 anos ou mais    3245.666667\n",
            "           4 a 7 anos         2835.500000\n",
            "           8 a 11 anos        3220.200000\n",
            "Masculino  12 anos ou mais    3327.222222\n",
            "           4 a 7 anos         3453.625000\n",
            "           8 a 11 anos        3243.387097\n",
            "Name: PESO, dtype: float64\n"
          ]
        }
      ],
      "source": [
        "# Filtrando os dados para bebês nascidos em 04/04.\n",
        "sinasc_04_04 = sinasc_raw[sinasc_raw['DTNASC'] == '2019-04-04']\n",
        "\n",
        "# Agrupando por sexo e faixa de escolaridade materna, calculando a média do peso.\n",
        "peso_medio_por_sexo_e_escolaridade = sinasc_04_04.groupby(['SEXO', 'ESCMAE'])['PESO'].mean()\n",
        "\n",
        "print(peso_medio_por_sexo_e_escolaridade)"
      ]
    },
    {
      "cell_type": "markdown",
      "metadata": {
        "id": "gNwTCXrz3MuO"
      },
      "source": [
        "### 3. Qual o municipio que nasceu menos bebe em 2019?\n",
        "   "
      ]
    },
    {
      "cell_type": "code",
      "execution_count": null,
      "metadata": {
        "id": "4MN_wUPq3MuO",
        "outputId": "4c3a150d-08f2-41e7-8cc1-1d47c16df41c"
      },
      "outputs": [
        {
          "name": "stdout",
          "output_type": "stream",
          "text": [
            "Município com menor número de nascimentos:\n",
            "munResNome               Castanheiras\n",
            "Numero_de_Nascimentos              32\n",
            "Name: 11, dtype: object\n"
          ]
        }
      ],
      "source": [
        "# Agrupando por município e contando o número de nascimentos.\n",
        "nascimentos_por_municipio = sinasc_raw.groupby('munResNome').size().reset_index(name='Numero_de_Nascimentos')\n",
        "\n",
        "# Ordenando por número de nascimentos em ordem crescente.\n",
        "nascimentos_por_municipio = nascimentos_por_municipio.sort_values(by='Numero_de_Nascimentos')\n",
        "\n",
        "# Município com menor número de nascimentos.\n",
        "municipio_menor_nascimento = nascimentos_por_municipio.iloc[1]\n",
        "# O iloc[0] retornou um municipio que foi ignorado pela pesquisa, sendo assim passamos para próxima linha.\n",
        "print(\"Município com menor número de nascimentos:\")\n",
        "print(municipio_menor_nascimento)"
      ]
    },
    {
      "cell_type": "code",
      "execution_count": null,
      "metadata": {
        "id": "7WpFIVti3MuP"
      },
      "outputs": [],
      "source": []
    },
    {
      "cell_type": "markdown",
      "metadata": {
        "id": "LxiSa4Dm3MuP"
      },
      "source": [
        "- qual a idade media, maxima, minima das maes nesse municipio?"
      ]
    },
    {
      "cell_type": "code",
      "execution_count": null,
      "metadata": {
        "id": "5wV3mxOQ3MuQ"
      },
      "outputs": [],
      "source": [
        "municipio_castanheiras = 'Castanheiras'\n",
        "\n",
        "# Filtrando os dados do município específico\n",
        "maes_municipio = sinasc_raw[sinasc_raw['munResNome'] == municipio_castanheiras]\n",
        "\n",
        "# Calculando as estatísticas da idade das mães.\n",
        "idade_media = maes_municipio['IDADEMAE'].mean()\n",
        "idade_maxima = maes_municipio['IDADEMAE'].max()\n",
        "idade_minima = maes_municipio['IDADEMAE'].min()"
      ]
    },
    {
      "cell_type": "code",
      "execution_count": null,
      "metadata": {
        "id": "6waYMqMM3MuQ",
        "outputId": "03aeab78-31a7-449a-e867-51661dc0c3e3"
      },
      "outputs": [
        {
          "name": "stdout",
          "output_type": "stream",
          "text": [
            "No município Castanheiras:\n",
            "Idade média das mães: 27.28 anos\n",
            "Idade máxima das mães: 39 anos\n",
            "Idade mínima das mães: 17 anos\n"
          ]
        }
      ],
      "source": [
        "print(f\"No município {municipio_castanheiras}:\")\n",
        "print(f\"Idade média das mães: {idade_media:.2f} anos\")\n",
        "print(f\"Idade máxima das mães: {idade_maxima} anos\")\n",
        "print(f\"Idade mínima das mães: {idade_minima} anos\")"
      ]
    },
    {
      "cell_type": "code",
      "execution_count": null,
      "metadata": {
        "id": "CH-kFuZT3MuR",
        "outputId": "88d6bd0a-e3f2-4699-9361-3d4b20b17041"
      },
      "outputs": [
        {
          "name": "stdout",
          "output_type": "stream",
          "text": [
            "Object `municipio` not found.\n"
          ]
        }
      ],
      "source": [
        "- qual a idade media, maxima, minima dos pais nesse municipio?"
      ]
    },
    {
      "cell_type": "code",
      "execution_count": null,
      "metadata": {
        "id": "fzIOaoIV3MuS"
      },
      "outputs": [],
      "source": [
        "# Calculando as estatísticas da idade dos pais.\n",
        "idade_media = maes_municipio['IDADEPAI'].mean()\n",
        "idade_maxima = maes_municipio['IDADEPAI'].max()\n",
        "idade_minima = maes_municipio['IDADEPAI'].min()"
      ]
    },
    {
      "cell_type": "code",
      "execution_count": null,
      "metadata": {
        "id": "zHytKYDX3MuS",
        "outputId": "42fd9ca2-52b7-468b-aebd-926be2184b4e"
      },
      "outputs": [
        {
          "name": "stdout",
          "output_type": "stream",
          "text": [
            "No município Castanheiras:\n",
            "Idade média dos pais: 30.39 anos\n",
            "Idade máxima dos pais: 43.0 anos\n",
            "Idade mínima dos pais: 17.0 anos\n"
          ]
        }
      ],
      "source": [
        "print(f\"No município {municipio_castanheiras}:\")\n",
        "print(f\"Idade média dos pais: {idade_media:.2f} anos\")\n",
        "print(f\"Idade máxima dos pais: {idade_maxima} anos\")\n",
        "print(f\"Idade mínima dos pais: {idade_minima} anos\")"
      ]
    },
    {
      "cell_type": "markdown",
      "metadata": {
        "id": "3v6gb1DD3MuT"
      },
      "source": [
        "### 4. Qual o municipio que nasceu mais bebe no mês de março?\n",
        "\n",
        "   \n",
        "\n"
      ]
    },
    {
      "cell_type": "code",
      "execution_count": null,
      "metadata": {
        "id": "_-2MplhX3MuT",
        "outputId": "8b323668-500d-4553-f302-e8590aba571a"
      },
      "outputs": [
        {
          "name": "stdout",
          "output_type": "stream",
          "text": [
            "Município com maior número de nascimentos em março:\n",
            "munResNome               Porto Velho\n",
            "Numero_de_Nascimentos            744\n",
            "Name: 36, dtype: object\n"
          ]
        }
      ],
      "source": [
        "# Filtrando os dados do mês de março (ajuste o formato da data se necessário)\n",
        "nascimentos_marco = sinasc_raw[sinasc_raw['DTNASC'].str.contains('2019-03')]\n",
        "\n",
        "# Agrupando por município e contando o número de nascimentos\n",
        "nascimentos_por_municipio_marco = nascimentos_marco.groupby('munResNome').size().reset_index(name='Numero_de_Nascimentos')\n",
        "\n",
        "# Ordenando por número de nascimentos em ordem decrescente\n",
        "nascimentos_por_municipio_marco = nascimentos_por_municipio_marco.sort_values(by='Numero_de_Nascimentos', ascending=False)\n",
        "\n",
        "# Exibindo o município com maior número de nascimentos em março\n",
        "municipio_maior_nascimento_marco = nascimentos_por_municipio_marco.iloc[0]\n",
        "print(\"Município com maior número de nascimentos em março:\")\n",
        "print(municipio_maior_nascimento_marco)"
      ]
    },
    {
      "cell_type": "markdown",
      "metadata": {
        "id": "Mr4LOqrB3MuV"
      },
      "source": [
        "- qual a quantidade de filhos vivos media, maxima, minima nesse municipio?"
      ]
    },
    {
      "cell_type": "code",
      "execution_count": null,
      "metadata": {
        "id": "iY0Kenus3MuW",
        "outputId": "b2b700f0-a52d-4de5-e72e-5b727736b17d"
      },
      "outputs": [
        {
          "name": "stdout",
          "output_type": "stream",
          "text": [
            "   ORIGEM   CODESTAB  CODMUNNASC  LOCNASC  IDADEMAE  ESTCIVMAE  \\\n",
            "0       1  2679477.0      110001        1        19        5.0   \n",
            "1       1  2679477.0      110001        1        29        2.0   \n",
            "2       1  2679477.0      110001        1        37        9.0   \n",
            "3       1  2516500.0      110001        1        30        5.0   \n",
            "4       1  2516500.0      110001        1        30        2.0   \n",
            "\n",
            "            ESCMAE  CODOCUPMAE  QTDFILVIVO  QTDFILMORT  ...  CONTADOR  \\\n",
            "0      8 a 11 anos         NaN         0.0         0.0  ...         1   \n",
            "1      8 a 11 anos    999992.0         1.0         0.0  ...         2   \n",
            "2      8 a 11 anos    513205.0         2.0         0.0  ...         3   \n",
            "3  12 anos ou mais    231205.0         0.0         0.0  ...         4   \n",
            "4      8 a 11 anos    999992.0         1.0         0.0  ...         5   \n",
            "\n",
            "  munResStatus munResTipo               munResNome  munResUf munResLat  \\\n",
            "0        ATIVO      MUNIC    Alta Floresta D'Oeste  Rondônia -11.93554   \n",
            "1        ATIVO      MUNIC    Alta Floresta D'Oeste  Rondônia -11.93554   \n",
            "2        ATIVO      MUNIC    Alta Floresta D'Oeste  Rondônia -11.93554   \n",
            "3        ATIVO      MUNIC  Alto Alegre dos Parecis  Rondônia -12.13178   \n",
            "4        ATIVO      MUNIC    Alta Floresta D'Oeste  Rondônia -11.93554   \n",
            "\n",
            "   munResLon munResAlt  munResArea  ID  \n",
            "0  -61.99982     338.0    7067.025   1  \n",
            "1  -61.99982     338.0    7067.025   2  \n",
            "2  -61.99982     338.0    7067.025   3  \n",
            "3  -61.85308     397.0    3958.273   4  \n",
            "4  -61.99982     338.0    7067.025   5  \n",
            "\n",
            "[5 rows x 70 columns]\n"
          ]
        }
      ],
      "source": [
        "# Criando uma nova coluna com um índice sequencial\n",
        "sinasc_raw['ID'] = range(1, len(sinasc_raw) + 1)\n",
        "\n",
        "# Exibindo as primeiras linhas do DataFrame para verificar a nova coluna\n",
        "print(sinasc_raw.head())"
      ]
    },
    {
      "cell_type": "code",
      "execution_count": null,
      "metadata": {
        "id": "xUJHNtmn3MuW"
      },
      "outputs": [],
      "source": [
        "sinasc_raw.set_index('ID', inplace=True)"
      ]
    },
    {
      "cell_type": "code",
      "execution_count": null,
      "metadata": {
        "id": "tXc_CZlw3MuX",
        "outputId": "f261f8b0-9437-4ad4-d575-dc7888897335"
      },
      "outputs": [
        {
          "name": "stdout",
          "output_type": "stream",
          "text": [
            "Em Porto Velho, no mês de março:\n",
            "A média de filhos vivos por mulher é: 1.09\n",
            "O maior número de filhos vivos por mulher é: 9.0\n",
            "O menor número de filhos vivos por mulher é: 0.0\n"
          ]
        }
      ],
      "source": [
        "porto_velho_marco = sinasc_raw[(sinasc_raw['munResNome'] == 'Porto Velho') & (sinasc_raw['DTNASC'].str.contains('2019-03'))]\n",
        "\n",
        "# Agrupando por CPF da mãe e contando o número de filhos vivos\n",
        "filhos_vivos_por_mae = porto_velho_marco.groupby('ID')['QTDFILVIVO'].sum()\n",
        "\n",
        "# Calculando as estatísticas\n",
        "media_filhos_vivos = filhos_vivos_por_mae.mean()\n",
        "maximo_filhos_vivos = filhos_vivos_por_mae.max()\n",
        "minimo_filhos_vivos = filhos_vivos_por_mae.min()\n",
        "\n",
        "print(f\"Em Porto Velho, no mês de março:\")\n",
        "print(f\"A média de filhos vivos por mulher é: {media_filhos_vivos:.2f}\")\n",
        "print(f\"O maior número de filhos vivos por mulher é: {maximo_filhos_vivos}\")\n",
        "print(f\"O menor número de filhos vivos por mulher é: {minimo_filhos_vivos}\")"
      ]
    },
    {
      "cell_type": "code",
      "execution_count": null,
      "metadata": {
        "id": "MKRgCHuE3MuX",
        "outputId": "6013812c-1e1e-497d-90db-9dd27e06ff89"
      },
      "outputs": [
        {
          "name": "stdout",
          "output_type": "stream",
          "text": [
            "Object `municipio` not found.\n"
          ]
        }
      ],
      "source": [
        "- qual a idade media, maxima, minima dos pais nesse municipio?"
      ]
    },
    {
      "cell_type": "code",
      "execution_count": null,
      "metadata": {
        "id": "RP8FcJUH3MuY",
        "outputId": "473364ab-700f-417d-ee19-7a0fc36017a6"
      },
      "outputs": [
        {
          "name": "stdout",
          "output_type": "stream",
          "text": [
            "Para o município de Porto Velho:\n",
            "Idade média da mãe: 26.31 anos\n",
            "Idade máxima da mãe: 47 anos\n",
            "Idade mínima da mãe: 12 anos\n",
            "Idade média do pai: 32.35 anos\n",
            "Idade máxima do pai: 65.0 anos\n",
            "Idade mínima do pai: 16.0 anos\n"
          ]
        }
      ],
      "source": [
        "# Filtrando os dados para o município de Porto Velho\n",
        "porto_velho = sinasc_raw[sinasc_raw['munResNome'] == 'Porto Velho']\n",
        "\n",
        "# Calculando as estatísticas para a idade da mãe\n",
        "idade_mae_media = porto_velho['IDADEMAE'].mean()\n",
        "idade_mae_maxima = porto_velho['IDADEMAE'].max()\n",
        "idade_mae_minima = porto_velho['IDADEMAE'].min()\n",
        "\n",
        "# Calculando as estatísticas para a idade do pai (se disponível)\n",
        "if 'IDADEPAI' in porto_velho.columns:\n",
        "    idade_pai_media = porto_velho['IDADEPAI'].mean()\n",
        "    idade_pai_maxima = porto_velho['IDADEPAI'].max()\n",
        "    idade_pai_minima = porto_velho['IDADEPAI'].min()\n",
        "\n",
        "    print(f\"Para o município de Porto Velho:\")\n",
        "    print(f\"Idade média da mãe: {idade_mae_media:.2f} anos\")\n",
        "    print(f\"Idade máxima da mãe: {idade_mae_maxima} anos\")\n",
        "    print(f\"Idade mínima da mãe: {idade_mae_minima} anos\")\n",
        "    print(f\"Idade média do pai: {idade_pai_media:.2f} anos\")\n",
        "    print(f\"Idade máxima do pai: {idade_pai_maxima} anos\")\n",
        "    print(f\"Idade mínima do pai: {idade_pai_minima} anos\")\n"
      ]
    },
    {
      "cell_type": "markdown",
      "metadata": {
        "id": "1UcAaKbq3MuY"
      },
      "source": [
        "### Analise as respostas encontradas, tire algum insight delas, conte pra gente algo encontrado nos dados. Algo que você julgue relevante e novo pra você."
      ]
    },
    {
      "cell_type": "markdown",
      "metadata": {
        "id": "SdcnoSvA3MuZ"
      },
      "source": [
        "- Em ambas as cidades de nosso estudo a media de idade das mulheres é menor que as do homens."
      ]
    },
    {
      "cell_type": "markdown",
      "source": [
        "- Em media os homens são de 5 a 6 anos mais velhos que as mulheres."
      ],
      "metadata": {
        "id": "ls_pR9iZ3VwO"
      }
    },
    {
      "cell_type": "markdown",
      "source": [
        "---------------------------------------------------------------------------------------------------------"
      ],
      "metadata": {
        "id": "1mtHwOWU3Tpb"
      }
    }
  ],
  "metadata": {
    "kernelspec": {
      "display_name": "Python 3 (ipykernel)",
      "language": "python",
      "name": "python3"
    },
    "language_info": {
      "codemirror_mode": {
        "name": "ipython",
        "version": 3
      },
      "file_extension": ".py",
      "mimetype": "text/x-python",
      "name": "python",
      "nbconvert_exporter": "python",
      "pygments_lexer": "ipython3",
      "version": "3.12.4"
    },
    "varInspector": {
      "cols": {
        "lenName": 16,
        "lenType": 16,
        "lenVar": 40
      },
      "kernels_config": {
        "python": {
          "delete_cmd_postfix": "",
          "delete_cmd_prefix": "del ",
          "library": "var_list.py",
          "varRefreshCmd": "print(var_dic_list())"
        },
        "r": {
          "delete_cmd_postfix": ") ",
          "delete_cmd_prefix": "rm(",
          "library": "var_list.r",
          "varRefreshCmd": "cat(var_dic_list()) "
        }
      },
      "types_to_exclude": [
        "module",
        "function",
        "builtin_function_or_method",
        "instance",
        "_Feature"
      ],
      "window_display": false
    },
    "colab": {
      "provenance": [],
      "include_colab_link": true
    }
  },
  "nbformat": 4,
  "nbformat_minor": 0
}